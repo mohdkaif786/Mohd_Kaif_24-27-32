{
 "cells": [
  {
   "cell_type": "markdown",
   "id": "3dc96dba",
   "metadata": {},
   "source": [
    "# Name: MOHD KAIF\n",
    "# Reg.no: 24-27-32\n",
    "# Course : M.Tech (Data Science)\n",
    "# Assignment .no : 2"
   ]
  },
  {
   "cell_type": "markdown",
   "id": "2bfab1d1",
   "metadata": {},
   "source": [
    "# Ques 1. \n",
    "\n",
    "a) Create a variable named var1 that stores an array of numbers from 0 to 30,inclusive. Print var1 and its shape. Hint : arange\n",
    "\n",
    "b) Change var2 to a validly-shaped two-dimensional matrix and store it in a\n",
    "new variable called var2. Print var2 and its shape. Hint: Use the reshape function\n",
    "\n",
    "c) Create a third variable, var3 that reshapes it into a valid three-dimensional shape.\n",
    "Print var3 and its shape.\n",
    "\n",
    "d) Use two-dimensional array indexing to set the first value in the second row of var2\n",
    "to -1. Now look at var1 and var3. Did they change? Explain what’s\n",
    "going on. (Hint: does reshape return a view or a copy?)\n",
    "\n",
    "e) Another thing that comes up a lot with array shapes is thinking about how to\n",
    "aggregate over specific dimensions. Figure out how the NumPy sum function\n",
    "works (and the axis argument in particular) and do the following:\n",
    "\n",
    "(i) Sum var3 over its second dimension and print the result.\n",
    "\n",
    "(ii) Sum var3 over its third dimension and print the result.\n",
    "\n",
    "(iii) Sum var3 over both its first and third dimensions and print the result.\n",
    "\n",
    "f) Write code to do the following:\n",
    "\n",
    "(i) Slice out the second row of var2 and print it.\n",
    "\n",
    "(ii) Slice out the last column of var2 using the -1 notation and print it.\n",
    "\n",
    "(iii) Slice out the top right 2 × 2 submatrix of var2 and print it.\n"
   ]
  },
  {
   "cell_type": "code",
   "execution_count": 14,
   "id": "d07320f1",
   "metadata": {},
   "outputs": [],
   "source": [
    "import numpy as np"
   ]
  },
  {
   "cell_type": "markdown",
   "id": "f740453e",
   "metadata": {},
   "source": [
    "a) Create a variable named var1 that stores an array of numbers from 0 to 30,inclusive. Print var1 and its shape. Hint : arange"
   ]
  },
  {
   "cell_type": "code",
   "execution_count": 20,
   "id": "f434ded6",
   "metadata": {},
   "outputs": [
    {
     "name": "stdout",
     "output_type": "stream",
     "text": [
      "var1: [ 0  1  2  3  4  5  6  7  8  9 10 11 12 13 14 15 16 17 18 19 20 21 22 23\n",
      " 24 25 26 27 28 29 30]\n",
      "Shape of var1: (31,)\n"
     ]
    }
   ],
   "source": [
    "var1 = np.arange(31)\n",
    "print(\"var1:\", var1)\n",
    "print(\"Shape of var1:\", var1.shape)"
   ]
  },
  {
   "cell_type": "markdown",
   "id": "f3927f79",
   "metadata": {},
   "source": [
    "b) Change var2 to a validly-shaped two-dimensional matrix and store it in a new variable called var2. Print var2 and its shape. Hint: Use the reshape function"
   ]
  },
  {
   "cell_type": "code",
   "execution_count": 26,
   "id": "5bed5a28",
   "metadata": {},
   "outputs": [
    {
     "name": "stdout",
     "output_type": "stream",
     "text": [
      "var2: [[ 0]\n",
      " [ 1]\n",
      " [ 2]\n",
      " [ 3]\n",
      " [ 4]\n",
      " [ 5]\n",
      " [ 6]\n",
      " [ 7]\n",
      " [ 8]\n",
      " [ 9]\n",
      " [10]\n",
      " [11]\n",
      " [12]\n",
      " [13]\n",
      " [14]\n",
      " [15]\n",
      " [16]\n",
      " [17]\n",
      " [18]\n",
      " [19]\n",
      " [20]\n",
      " [21]\n",
      " [22]\n",
      " [23]\n",
      " [24]\n",
      " [25]\n",
      " [26]\n",
      " [27]\n",
      " [28]\n",
      " [29]\n",
      " [30]]\n",
      "Shape of var2: (31, 1)\n"
     ]
    }
   ],
   "source": [
    "var2 = var1.reshape(31,1)\n",
    "print(\"var2:\", var2)\n",
    "print(\"Shape of var2:\", var2.shape)\n"
   ]
  },
  {
   "cell_type": "markdown",
   "id": "b6e7e22a",
   "metadata": {},
   "source": [
    "c) Create a third variable, var3 that reshapes it into a valid three-dimensional shape. Print var3 and its shape."
   ]
  },
  {
   "cell_type": "code",
   "execution_count": 27,
   "id": "bc194e12",
   "metadata": {},
   "outputs": [
    {
     "name": "stdout",
     "output_type": "stream",
     "text": [
      "var3: [[[ 0]\n",
      "  [ 1]\n",
      "  [ 2]\n",
      "  [ 3]\n",
      "  [ 4]\n",
      "  [ 5]\n",
      "  [ 6]\n",
      "  [ 7]\n",
      "  [ 8]\n",
      "  [ 9]\n",
      "  [10]\n",
      "  [11]\n",
      "  [12]\n",
      "  [13]\n",
      "  [14]\n",
      "  [15]\n",
      "  [16]\n",
      "  [17]\n",
      "  [18]\n",
      "  [19]\n",
      "  [20]\n",
      "  [21]\n",
      "  [22]\n",
      "  [23]\n",
      "  [24]\n",
      "  [25]\n",
      "  [26]\n",
      "  [27]\n",
      "  [28]\n",
      "  [29]\n",
      "  [30]]]\n",
      "Shape of var3: (1, 31, 1)\n"
     ]
    }
   ],
   "source": [
    "var3 = var1.reshape(1,31,1)\n",
    "print(\"var3:\", var3)\n",
    "print(\"Shape of var3:\", var3.shape)"
   ]
  },
  {
   "cell_type": "markdown",
   "id": "164009fd",
   "metadata": {},
   "source": [
    "d) Use two-dimensional array indexing to set the first value in the second row of var2 to -1. Now look at var1 and var3. Did they change? Explain what’s going on. (Hint: does reshape return a view or a copy?)"
   ]
  },
  {
   "cell_type": "code",
   "execution_count": 28,
   "id": "3b740602",
   "metadata": {},
   "outputs": [
    {
     "name": "stdout",
     "output_type": "stream",
     "text": [
      "var1: [ 0 -1  2  3  4  5  6  7  8  9 10 11 12 13 14 15 16 17 18 19 20 21 22 23\n",
      " 24 25 26 27 28 29 30]\n",
      "var3: [[[ 0]\n",
      "  [-1]\n",
      "  [ 2]\n",
      "  [ 3]\n",
      "  [ 4]\n",
      "  [ 5]\n",
      "  [ 6]\n",
      "  [ 7]\n",
      "  [ 8]\n",
      "  [ 9]\n",
      "  [10]\n",
      "  [11]\n",
      "  [12]\n",
      "  [13]\n",
      "  [14]\n",
      "  [15]\n",
      "  [16]\n",
      "  [17]\n",
      "  [18]\n",
      "  [19]\n",
      "  [20]\n",
      "  [21]\n",
      "  [22]\n",
      "  [23]\n",
      "  [24]\n",
      "  [25]\n",
      "  [26]\n",
      "  [27]\n",
      "  [28]\n",
      "  [29]\n",
      "  [30]]]\n"
     ]
    }
   ],
   "source": [
    "var2[1, 0] = -1\n",
    "print(\"var1:\", var1)\n",
    "print(\"var3:\", var3)"
   ]
  },
  {
   "cell_type": "markdown",
   "id": "3fb32ec2",
   "metadata": {},
   "source": [
    "reshape function creates a view of the NumPy array. So, changing one affects the others."
   ]
  },
  {
   "cell_type": "markdown",
   "id": "2492af3c",
   "metadata": {},
   "source": [
    "\n",
    "e) Another thing that comes up a lot with array shapes is thinking about how to aggregate over specific dimensions. Figure out how the NumPy sum function works (and the axis argument in particular) and do the following:\n",
    "\n",
    "(i) Sum var3 over its second dimension and print the result."
   ]
  },
  {
   "cell_type": "code",
   "execution_count": 29,
   "id": "e9d1d301",
   "metadata": {},
   "outputs": [
    {
     "name": "stdout",
     "output_type": "stream",
     "text": [
      "Sum over second dimension: [[463]]\n"
     ]
    }
   ],
   "source": [
    "result1 = np.sum(var3, axis=1)\n",
    "print(\"Sum over second dimension:\", result1)"
   ]
  },
  {
   "cell_type": "markdown",
   "id": "477debec",
   "metadata": {},
   "source": [
    "(ii) Sum var3 over its third dimension and print the result."
   ]
  },
  {
   "cell_type": "code",
   "execution_count": null,
   "id": "084a7ad9",
   "metadata": {},
   "outputs": [],
   "source": [
    "result2 = np.sum(var3, axis=2)\n",
    "print(\"Sum over third dimension:\", result2)"
   ]
  },
  {
   "cell_type": "markdown",
   "id": "45ce5ad0",
   "metadata": {},
   "source": [
    "(iii) Sum var3 over both its first and third dimensions and print the result."
   ]
  },
  {
   "cell_type": "code",
   "execution_count": 31,
   "id": "d468b01f",
   "metadata": {},
   "outputs": [
    {
     "name": "stdout",
     "output_type": "stream",
     "text": [
      "Sum over first and third dimensions: [ 0 -1  2  3  4  5  6  7  8  9 10 11 12 13 14 15 16 17 18 19 20 21 22 23\n",
      " 24 25 26 27 28 29 30]\n"
     ]
    }
   ],
   "source": [
    "result3 = np.sum(var3, axis=(0, 2))\n",
    "print(\"Sum over first and third dimensions:\", result3)"
   ]
  },
  {
   "cell_type": "markdown",
   "id": "f1344e87",
   "metadata": {},
   "source": [
    "f) Write code to do the following:"
   ]
  },
  {
   "cell_type": "code",
   "execution_count": 19,
   "id": "49f8b27c",
   "metadata": {},
   "outputs": [
    {
     "data": {
      "text/plain": [
       "array([[ 0,  1,  2,  3,  4,  5],\n",
       "       [ 6,  7,  8,  9, 10, 11],\n",
       "       [12, 13, 14, 15, 16, 17],\n",
       "       [18, 19, 20, 21, 22, 23],\n",
       "       [24, 25, 26, 27, 28, 29]])"
      ]
     },
     "execution_count": 19,
     "metadata": {},
     "output_type": "execute_result"
    }
   ],
   "source": [
    "var2 = np.arange(0,30)\n",
    "var2 = var2.reshape(5,6)\n",
    "var2"
   ]
  },
  {
   "cell_type": "markdown",
   "id": "bd59f166",
   "metadata": {},
   "source": [
    "(i) Slice out the second row of var2 and print it."
   ]
  },
  {
   "cell_type": "code",
   "execution_count": 20,
   "id": "ef97477f",
   "metadata": {},
   "outputs": [
    {
     "name": "stdout",
     "output_type": "stream",
     "text": [
      "Second row: [ 6  7  8  9 10 11]\n"
     ]
    }
   ],
   "source": [
    "\n",
    "row2 = var2[1, :]\n",
    "print(\"Second row:\", row2)\n"
   ]
  },
  {
   "cell_type": "markdown",
   "id": "88af8dc9",
   "metadata": {},
   "source": [
    "(ii) Slice out the last column of var2 using the -1 notation and print it."
   ]
  },
  {
   "cell_type": "code",
   "execution_count": 21,
   "id": "72891f5b",
   "metadata": {},
   "outputs": [
    {
     "name": "stdout",
     "output_type": "stream",
     "text": [
      "Last column: [ 5 11 17 23 29]\n"
     ]
    }
   ],
   "source": [
    "last_col = var2[:, -1]\n",
    "print(\"Last column:\", last_col)"
   ]
  },
  {
   "cell_type": "markdown",
   "id": "68cddf79",
   "metadata": {},
   "source": [
    "(iii) Slice out the top right 2 × 2 submatrix of var2 and print it."
   ]
  },
  {
   "cell_type": "code",
   "execution_count": 22,
   "id": "ef0ce286",
   "metadata": {},
   "outputs": [
    {
     "name": "stdout",
     "output_type": "stream",
     "text": [
      "Top right 2x2 submatrix: [[ 4  5]\n",
      " [10 11]]\n"
     ]
    }
   ],
   "source": [
    "top_right = var2[:2, -2:]\n",
    "print(\"Top right 2x2 submatrix:\", top_right)"
   ]
  },
  {
   "cell_type": "markdown",
   "id": "1485b8ba",
   "metadata": {},
   "source": [
    "# Ques 2. \n",
    "\n",
    "a) The most basic kind of broadcast is with a scalar, in which you can perform a binary operation (e.g., add, multiply, ...) on an array and a scalar, the effect is to perform that operation with the scalar for every element of the array. To try this out, create a vector 1, 2, . . . , 10 by adding 1 to the result of the arange function."
   ]
  },
  {
   "cell_type": "code",
   "execution_count": 23,
   "id": "b03a9c40",
   "metadata": {},
   "outputs": [
    {
     "name": "stdout",
     "output_type": "stream",
     "text": [
      "Vector: [ 1  2  3  4  5  6  7  8  9 10]\n"
     ]
    }
   ],
   "source": [
    "vector = np.arange(10) + 1\n",
    "print(\"Vector:\", vector)"
   ]
  },
  {
   "cell_type": "markdown",
   "id": "04de1313",
   "metadata": {},
   "source": [
    "b) Now, create a 10 × 10 matrix A in which Ai j = i + j. You’ll be able to do this using the vector you just created, and adding it to a reshaped version of itself."
   ]
  },
  {
   "cell_type": "code",
   "execution_count": 24,
   "id": "9004bf83",
   "metadata": {},
   "outputs": [
    {
     "name": "stdout",
     "output_type": "stream",
     "text": [
      "Matrix A:\n",
      " [[  2   4   6   8  10  12  14  16  18  20]\n",
      " [  3   6   9  12  15  18  21  24  27  30]\n",
      " [  4   8  12  16  20  24  28  32  36  40]\n",
      " [  5  10  15  20  25  30  35  40  45  50]\n",
      " [  6  12  18  24  30  36  42  48  54  60]\n",
      " [  7  14  21  28  35  42  49  56  63  70]\n",
      " [  8  16  24  32  40  48  56  64  72  80]\n",
      " [  9  18  27  36  45  54  63  72  81  90]\n",
      " [ 10  20  30  40  50  60  70  80  90 100]\n",
      " [ 11  22  33  44  55  66  77  88  99 110]]\n"
     ]
    }
   ],
   "source": [
    "A = np.outer(vector, vector) + vector\n",
    "print(\"Matrix A:\\n\", A)"
   ]
  },
  {
   "cell_type": "markdown",
   "id": "a90af715",
   "metadata": {},
   "source": [
    "c) A very common use of broadcasting is to standardize data, i.e., to make it have zero mean and unit variance. First, create a fake “data set” with 50 examples, each with five dimensions. import numpy.random as npr data = np.exp(npr.randn ( 50 , 5 ) )"
   ]
  },
  {
   "cell_type": "code",
   "execution_count": 25,
   "id": "9d1b1abd",
   "metadata": {},
   "outputs": [
    {
     "name": "stdout",
     "output_type": "stream",
     "text": [
      "Data:\n",
      " [[0.68771483 3.1953882  3.05661217 0.67827676 1.36321199]\n",
      " [1.97929524 2.30375531 3.36435073 0.59225569 1.31692247]]\n"
     ]
    }
   ],
   "source": [
    "import numpy.random as npr\n",
    "data = np.exp(npr.randn(50, 5))\n",
    "print(\"Data:\\n\", data[:2, :]) "
   ]
  },
  {
   "cell_type": "markdown",
   "id": "e0c25ff1",
   "metadata": {},
   "source": [
    "d) You don’t worry too much about what this code is doing at this stage of the course, but for completeness: it imports the NumPy random number generation library, then generates a 50 × 5 matrix of standard normal\n",
    "random variates and exponentiates them. The effect of this is to have a pretend data set of 50 independent and identically-distributed vectors from a log-normal distribution."
   ]
  },
  {
   "cell_type": "code",
   "execution_count": 26,
   "id": "81baa173",
   "metadata": {},
   "outputs": [
    {
     "name": "stdout",
     "output_type": "stream",
     "text": [
      "(50, 5)\n"
     ]
    },
    {
     "data": {
      "text/plain": [
       "array([[ 0.68771483,  3.1953882 ,  3.05661217,  0.67827676,  1.36321199],\n",
       "       [ 1.97929524,  2.30375531,  3.36435073,  0.59225569,  1.31692247],\n",
       "       [ 0.79953174,  0.64632861,  0.53879782,  0.42753415,  0.59427371],\n",
       "       [ 0.89706666,  0.52141438,  0.43062476,  9.87473499,  0.38268836],\n",
       "       [ 1.01102923,  1.63034625,  0.63881535,  0.39584031,  1.47154891],\n",
       "       [ 5.96590776,  1.07905315,  2.21606589,  0.41492273,  0.86292439],\n",
       "       [ 1.18148227,  0.35700124,  0.30457853,  1.1894073 ,  2.23523807],\n",
       "       [ 2.4988841 ,  0.62280445,  2.17717175,  3.39083522,  2.41811267],\n",
       "       [ 2.19599021,  2.46315825,  0.61656483,  3.35869825,  0.42775138],\n",
       "       [ 1.82655928,  3.00143559,  0.48307703,  0.9798033 ,  1.57695707],\n",
       "       [ 0.47322837,  0.32720277,  2.6121894 ,  0.77863741,  2.21369367],\n",
       "       [ 0.76065899,  3.13947043,  5.41448919,  0.57228314,  2.23429673],\n",
       "       [ 0.80239529,  1.61420675,  4.81064987,  1.34927722,  2.67580137],\n",
       "       [ 0.56259895,  0.56095806,  0.84930795,  2.8688384 ,  1.63780653],\n",
       "       [ 4.10952521,  0.5610385 ,  1.26030518,  1.07126433,  1.14773065],\n",
       "       [ 1.1542006 ,  1.02664295,  0.11243934,  0.92619449,  0.81655107],\n",
       "       [ 0.21846349,  3.57284787,  0.18383445,  0.1785199 ,  1.77517741],\n",
       "       [ 0.35038048,  1.97810287,  0.96093087,  2.76067768,  5.02538889],\n",
       "       [ 3.40124956,  0.3464414 ,  0.22429363,  0.48889192,  0.32553412],\n",
       "       [ 1.45354318,  0.98413759,  0.4013201 ,  0.62716105,  1.56006567],\n",
       "       [ 0.33491316,  0.18657157,  0.36947741,  0.09733401,  1.22763994],\n",
       "       [ 3.60583011,  3.48325133,  0.27414466,  2.53076515,  3.92862759],\n",
       "       [ 0.19081946,  2.40383978,  1.13757914,  0.47773188,  0.34191671],\n",
       "       [ 0.75475408,  1.13643159,  0.21795976,  2.89847824,  0.4293878 ],\n",
       "       [ 0.62968599,  0.39600817,  0.95801596,  0.38436593,  4.61976691],\n",
       "       [ 0.5316826 ,  1.64913145,  0.76898159,  2.69799212,  0.37294571],\n",
       "       [ 0.51716022,  2.23726322,  0.79174696,  2.00985736,  1.27396581],\n",
       "       [ 2.86343928,  0.48399374,  0.60531967,  3.23769753,  1.76227333],\n",
       "       [ 0.32706249,  1.53434556,  0.47729351,  1.19110446,  2.63325679],\n",
       "       [ 1.69672599,  1.15296736,  0.32896176,  0.24536277,  0.99869149],\n",
       "       [ 1.66143128,  0.60765347,  1.79646473,  0.36209704,  3.9207896 ],\n",
       "       [ 0.25649288,  9.19921311,  0.50528771,  0.49657078,  1.7641454 ],\n",
       "       [ 0.66405243,  7.78367446,  0.50676443,  1.74702918,  2.90710526],\n",
       "       [ 2.86645477,  2.00058099,  1.56645325,  0.95395556,  2.28561629],\n",
       "       [ 2.3729994 ,  1.8836575 ,  0.84926871,  0.52457316,  0.74474876],\n",
       "       [ 0.32079755,  1.3613469 ,  3.17264891,  1.23673959,  2.05261928],\n",
       "       [ 0.11856437,  0.51160322,  4.35087604,  1.27766565,  0.52551469],\n",
       "       [ 0.27194707,  2.64304121,  0.44900103,  1.74132279,  0.27615947],\n",
       "       [ 8.36636133,  1.39516671,  2.6193058 ,  0.17685324,  0.7151382 ],\n",
       "       [ 0.78820634,  1.09456199,  0.26625276,  0.25500424,  0.67030463],\n",
       "       [ 3.03135009,  2.20983145,  1.6955013 ,  0.22061206,  0.37650592],\n",
       "       [ 0.56262527, 15.67189782,  0.99627603,  0.37884234,  2.62904235],\n",
       "       [ 3.99132329,  2.93222132,  0.59130162,  0.38627264,  0.8405065 ],\n",
       "       [ 0.27199003,  3.36914155,  0.43047118,  2.21505341,  0.44466861],\n",
       "       [ 0.67281377,  1.811456  ,  0.65674854,  0.86613266,  2.0512245 ],\n",
       "       [ 1.14284413,  1.67541709,  2.05892264,  1.45602136,  1.15463375],\n",
       "       [ 2.93119898,  1.08865638,  0.29604453,  0.57219342,  0.61219891],\n",
       "       [ 0.36272319,  0.56776686,  2.16096064,  0.71258352,  1.89982858],\n",
       "       [ 1.45806439,  0.32993338,  3.54991179,  0.57386706,  0.74414641],\n",
       "       [ 4.67867909,  0.27246034,  0.69505059,  1.38571518,  0.2906112 ]])"
      ]
     },
     "execution_count": 26,
     "metadata": {},
     "output_type": "execute_result"
    }
   ],
   "source": [
    "print(data.shape)\n",
    "data"
   ]
  },
  {
   "cell_type": "markdown",
   "id": "caeed92b",
   "metadata": {},
   "source": [
    "e) Now, compute the mean and standard deviation of each column. This should result in two vectors of length 5. You’ll need to think a little bit about how to use the axis argument to mean and std. Store these vectors into variables and print both of them."
   ]
  },
  {
   "cell_type": "code",
   "execution_count": 27,
   "id": "9f3a360c",
   "metadata": {},
   "outputs": [
    {
     "name": "stdout",
     "output_type": "stream",
     "text": [
      "Mean of each column:\n",
      " [1.61145397 2.0600964  1.31598823 1.32467697 1.53111311]\n",
      "Standard deviation of each column:\n",
      " [1.64940714 2.56933214 1.28402001 1.53690088 1.12881004]\n"
     ]
    }
   ],
   "source": [
    "mean_data = np.mean(data, axis=0)\n",
    "std_data = np.std(data, axis=0)\n",
    "print(\"Mean of each column:\\n\", mean_data)\n",
    "print(\"Standard deviation of each column:\\n\", std_data)"
   ]
  },
  {
   "cell_type": "markdown",
   "id": "541ddd99",
   "metadata": {},
   "source": [
    "f) Now standardize the data matrix by \n",
    "\n",
    "1) subtracting the mean off of each column, and \n",
    "2) dividing each column by its standard deviation. \n",
    "\n",
    "Do this via broadcasting, and store the result in a matrix called normalized. To verify that you successfully did it, compute the mean and standard deviation of the columns of normalized and print them out."
   ]
  },
  {
   "cell_type": "code",
   "execution_count": 31,
   "id": "022dcc15",
   "metadata": {},
   "outputs": [
    {
     "name": "stdout",
     "output_type": "stream",
     "text": [
      "Mean of normalized data along columns:- [-1.59872116e-16 -1.48769885e-16  1.52100554e-16 -2.37310172e-17\n",
      "  2.04281037e-16]\n",
      "Standard deviation of normalized data along columns:- [1. 1. 1. 1. 1.]\n"
     ]
    }
   ],
   "source": [
    "data_sub = data - mean_data\n",
    "normalized = data_sub / std_data\n",
    "\n",
    "normalized_mean_dist = np.mean(normalized, axis=0)\n",
    "normalized_std_dist = np.std(normalized, axis=0)\n",
    "\n",
    "print(f\"Mean of normalized data along columns:- {normalized_mean_dist}\")\n",
    "print(f\"Standard deviation of normalized data along columns:- {normalized_std_dist}\")"
   ]
  },
  {
   "attachments": {
    "image.png": {
     "image/png": "[encoded data removed]"
    }
   },
   "cell_type": "markdown",
   "id": "1440b404",
   "metadata": {},
   "source": [
    "# Ques 3.\n",
    "\n",
    "a) A Vandermonde matrix is a matrix generated from a vector in which each column of the matrix is an integer power starting from zero. So, if I have a column vector [x1, x2, . . . , xN]T , then the associated (square) Vandermonde matrix would be\n",
    "\n",
    "![image.png](attachment:image.png)\n",
    "\n",
    "Use what you learned about broadcasting in the previous problem to write a function that will produce a Vandermonde matrix for a vector [1, 2, . . . ,N]T for any N. Do it without using a loop. \n",
    "\n",
    "Use your function for N = 12, store it in variable named vander, and print the result.\n",
    "\n"
   ]
  },
  {
   "cell_type": "code",
   "execution_count": 45,
   "id": "b0c236d0",
   "metadata": {},
   "outputs": [],
   "source": [
    "import numpy.linalg as la\n",
    "\n",
    "\n",
    "def vandermonde(N):\n",
    "    vec = np.arange(N) + 1  # Generate the vector [1, 2, ..., N]\n",
    "    vander = vec[:, np.newaxis] ** np.arange(N)  # Use broadcasting to compute powers\n",
    "    return vander\n",
    "\n"
   ]
  },
  {
   "cell_type": "code",
   "execution_count": 52,
   "id": "8f8dbab2",
   "metadata": {},
   "outputs": [
    {
     "name": "stdout",
     "output_type": "stream",
     "text": [
      "[[          1           1           1           1           1           1\n",
      "            1           1           1           1           1           1]\n",
      " [          1           2           4           8          16          32\n",
      "           64         128         256         512        1024        2048]\n",
      " [          1           3           9          27          81         243\n",
      "          729        2187        6561       19683       59049      177147]\n",
      " [          1           4          16          64         256        1024\n",
      "         4096       16384       65536      262144     1048576     4194304]\n",
      " [          1           5          25         125         625        3125\n",
      "        15625       78125      390625     1953125     9765625    48828125]\n",
      " [          1           6          36         216        1296        7776\n",
      "        46656      279936     1679616    10077696    60466176   362797056]\n",
      " [          1           7          49         343        2401       16807\n",
      "       117649      823543     5764801    40353607   282475249  1977326743]\n",
      " [          1           8          64         512        4096       32768\n",
      "       262144     2097152    16777216   134217728  1073741824           0]\n",
      " [          1           9          81         729        6561       59049\n",
      "       531441     4782969    43046721   387420489  -808182895  1316288537]\n",
      " [          1          10         100        1000       10000      100000\n",
      "      1000000    10000000   100000000  1000000000  1410065408  1215752192]\n",
      " [          1          11         121        1331       14641      161051\n",
      "      1771561    19487171   214358881 -1937019605   167620825  1843829075]\n",
      " [          1          12         144        1728       20736      248832\n",
      "      2985984    35831808   429981696   864813056  1787822080   -20971520]]\n"
     ]
    }
   ],
   "source": [
    "vander = vandermonde(12)\n",
    "print(vander)"
   ]
  },
  {
   "cell_type": "markdown",
   "id": "878e31c5",
   "metadata": {},
   "source": [
    "b) Now, let’s make a pretend linear system problem with this matrix. Create a vector of all ones, of length 12 and call it x. Perform a matrix-vector multiplication of vander with the vector you just created and store that in a new vector and call it b. Print the vector b."
   ]
  },
  {
   "cell_type": "code",
   "execution_count": 53,
   "id": "8bff9b19",
   "metadata": {},
   "outputs": [
    {
     "name": "stdout",
     "output_type": "stream",
     "text": [
      "Vector b:\n",
      " [1.20000000e+01 4.09500000e+03 2.65720000e+05 5.59240500e+06\n",
      " 6.10351560e+07 4.35356467e+08 2.30688120e+09 1.22713351e+09\n",
      " 9.43953692e+08 3.73692871e+09 3.10225064e+08 3.10073456e+09]\n"
     ]
    }
   ],
   "source": [
    "x = np.ones(12)\n",
    "b = vander @ x  \n",
    "print(\"Vector b:\\n\", b)"
   ]
  },
  {
   "cell_type": "markdown",
   "id": "34f316f1",
   "metadata": {},
   "source": [
    "c) First, solve the linear system the naïve way, pretending like you don’t know x. Import numpy.linalg, invert V and multiply it by b. Print out your result. What should you get for your answer? If the answer is different than what you expected, write a sentence about that difference."
   ]
  },
  {
   "cell_type": "code",
   "execution_count": 54,
   "id": "6f128b1c",
   "metadata": {},
   "outputs": [
    {
     "name": "stdout",
     "output_type": "stream",
     "text": [
      "Solution using matrix inversion:\n",
      " [0.99559784 1.00491714 0.99946976 1.00000954 1.         0.99999917\n",
      " 1.00000018 0.99999999 1.         1.         1.         1.        ]\n"
     ]
    }
   ],
   "source": [
    "x_inv = la.inv(vander) @ b\n",
    "print(\"Solution using matrix inversion:\\n\", x_inv)"
   ]
  },
  {
   "cell_type": "markdown",
   "id": "279529e7",
   "metadata": {},
   "source": [
    "d) Now, solve the same linear system using solve. Print out the result. Does it seem more or less in line with what you’d expect?"
   ]
  },
  {
   "cell_type": "code",
   "execution_count": 55,
   "id": "0344dbc4",
   "metadata": {},
   "outputs": [
    {
     "name": "stdout",
     "output_type": "stream",
     "text": [
      "Solution using solve:\n",
      " [1.0000114  0.99997033 1.00002961 0.99998507 1.00000423 0.9999993\n",
      " 1.00000007 1.         1.         1.         1.         1.        ]\n"
     ]
    }
   ],
   "source": [
    "x_solve = la.solve(vander, b)\n",
    "print(\"Solution using solve:\\n\", x_solve)"
   ]
  },
  {
   "cell_type": "code",
   "execution_count": null,
   "id": "a7f503e5",
   "metadata": {},
   "outputs": [],
   "source": []
  }
 ],
 "metadata": {
  "kernelspec": {
   "display_name": "Python 3 (ipykernel)",
   "language": "python",
   "name": "python3"
  },
  "language_info": {
   "codemirror_mode": {
    "name": "ipython",
    "version": 3
   },
   "file_extension": ".py",
   "mimetype": "text/x-python",
   "name": "python",
   "nbconvert_exporter": "python",
   "pygments_lexer": "ipython3",
   "version": "3.11.2"
  }
 },
 "nbformat": 4,
 "nbformat_minor": 5
}
